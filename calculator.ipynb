{
 "cells": [
  {
   "cell_type": "markdown",
   "metadata": {},
   "source": [
    "We need to make a program that will calculate the roi for a rental property \n",
    "\n",
    "Categories from video \n",
    "\n",
    "1. income- rental,laundry,storage,misc - $2,000 \n",
    "rental income it seems as if hes saying monthly rent is 1% of the homes value \n",
    "\n",
    "\n",
    "2. expenses- $1610\n",
    "tax -$150\n",
    "insurance- $100 \n",
    "utilities(elec,water,sew,gas)-$0\n",
    "HOA-$0\n",
    "Lawn-$0\n",
    "Vacancy-5% of rental or 100$ \n",
    "repairs-$100\n",
    "capital expenditures-$100 \n",
    "property manager-$200\n",
    "mortgage-$860 \n",
    "\n",
    "\n",
    "3. Cash Flow - Income-expenses= 2000-1610= $390 \n",
    "\n",
    "4. Cash on Cash ROI- \n",
    "Down payment- $40,000\n",
    "closing costs- $3,000\n",
    "rehab- $7,000\n",
    "misc- $0\n",
    "total investment- 50,000 \n",
    "\n",
    "monthly cash flow  390x12= 4,680 \n",
    "\n",
    "annual cash flow/total investment\n",
    "\n",
    "4,680/50,0000= 9.36%"
   ]
  },
  {
   "cell_type": "code",
   "execution_count": 64,
   "metadata": {},
   "outputs": [
    {
     "name": "stdout",
     "output_type": "stream",
     "text": [
      "Your return is 0.11712\n"
     ]
    }
   ],
   "source": [
    "class RentalProperty:\n",
    "    def __init__(self, monthly_rent,tax,insurance,vacancy,repairs,capex,mortgage,property_mng,down,closing,rehab):\n",
    "        self.monthly_rent = monthly_rent\n",
    "        self.tax = tax \n",
    "        self.insurance= insurance\n",
    "        self.vacancy= vacany\n",
    "        self.repairs=repairs\n",
    "        self.capex=capex\n",
    "        self.mortgage=mortgage\n",
    "        self.property_mng= property_mng\n",
    "        self.down= down\n",
    "        self.closing= closing\n",
    "        self.rehab=rehab \n",
    "  \n",
    "        \n",
    "        #combine all the expenses into 1 variable \n",
    "        monthly_expenses= tax+insurance+vacancy+repairs+capex+mortgage+property_mng\n",
    "        \n",
    "        #calcuate the monthly cash flow \n",
    "        cash_flow= monthly_rent-monthly_expenses\n",
    "\n",
    "        #make the cash flow annual \n",
    "        annual_cash_flow= cash_flow * 12 \n",
    "\n",
    "        #calculate total investment \n",
    "        total_investment= down+closing+rehab \n",
    "\n",
    "        #calculate the roi\n",
    "        roi_final= annual_cash_flow / total_investment\n",
    "        print(\"Your return is\", roi_final)\n",
    "\n",
    "    \n",
    "        \n",
    "        \n",
    "        \n",
    "        \n",
    "monthly_rent = int(input(\"Enter the monthly rent\"))\n",
    "tax = int(input(\"Enter the monthly tax\"))\n",
    "insurance = int(input(\"Enter the monthly insurance\"))\n",
    "vacancy = int(input(\"Enter the monthly vacancy\"))\n",
    "repairs = int(input(\"Enter the monthly repairs\"))\n",
    "capex = int(input(\"Enter the monthly capex\"))\n",
    "repairs = int(input(\"Enter the monthly mortgage\"))\n",
    "property_mng = int(input(\"Enter the monthly manager fee\"))\n",
    "down = int(input(\"Enter the down payment\"))\n",
    "closing = int(input(\"Enter the closing cost\"))\n",
    "rehab = int(input(\"Enter the rehab budget\"))\n",
    "\n",
    "\n",
    "\n",
    "\n",
    "jon= RentalProperty(monthly_rent,tax,insurance,vacancy,repairs,capex,mortgage,property_mng,down,closing,rehab)\n",
    "\n",
    "\n",
    "\n"
   ]
  }
 ],
 "metadata": {
  "kernelspec": {
   "display_name": "base",
   "language": "python",
   "name": "python3"
  },
  "language_info": {
   "codemirror_mode": {
    "name": "ipython",
    "version": 3
   },
   "file_extension": ".py",
   "mimetype": "text/x-python",
   "name": "python",
   "nbconvert_exporter": "python",
   "pygments_lexer": "ipython3",
   "version": "3.11.5"
  }
 },
 "nbformat": 4,
 "nbformat_minor": 2
}
